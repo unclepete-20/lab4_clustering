{
 "cells": [
  {
   "cell_type": "markdown",
   "metadata": {},
   "source": [
    "# Elementos básicos del cluster analysis"
   ]
  },
  {
   "cell_type": "markdown",
   "metadata": {},
   "source": [
    "En este \"notebook\" exploramos lo básico de cluster analysis con k-means"
   ]
  },
  {
   "cell_type": "markdown",
   "metadata": {},
   "source": [
    "## Importar las librerías relevantes"
   ]
  },
  {
   "cell_type": "code",
   "execution_count": null,
   "metadata": {},
   "outputs": [],
   "source": [
    "import pandas as pd\n",
    "import numpy as np\n",
    "import plotly.express as px\n",
    "import matplotlib.pyplot as plt\n",
    "import seaborn as sns\n",
    "# Utilizar los estilos de Seaborn\n",
    "sns.set()\n",
    "# Importar el módulo KMeans para usar k-means clustering con sklearn\n",
    "from sklearn.cluster import KMeans"
   ]
  },
  {
   "cell_type": "markdown",
   "metadata": {},
   "source": [
    "## cargar los datos"
   ]
  },
  {
   "cell_type": "code",
   "execution_count": null,
   "metadata": {},
   "outputs": [],
   "source": [
    "datos = pd.read_csv('Paises.csv')"
   ]
  },
  {
   "cell_type": "code",
   "execution_count": null,
   "metadata": {
    "scrolled": true
   },
   "outputs": [],
   "source": [
    "# Darle un vistazo a los datos\n",
    "datos.head()"
   ]
  },
  {
   "cell_type": "markdown",
   "metadata": {},
   "source": [
    "## Graficar los datos"
   ]
  },
  {
   "cell_type": "code",
   "execution_count": null,
   "metadata": {},
   "outputs": [],
   "source": [
    "# Utilizar el código más simple posible para crear una gráfica de dispersión usando longitud y latitud\n",
    "# Nótese que para obtener un resultado que se asemeje al mapa mundi, debemos usar la longitud como y, y la latitud como x\n",
    "\n",
    "plt.scatter(datos['Longitude'],datos['Latitude'])\n",
    "\n",
    "# Fijar límites a los ejes, a semejanza del mapa mundi\n",
    "\n",
    "plt.xlim(-180,180)\n",
    "plt.ylim(-90,90)\n",
    "plt.show"
   ]
  },
  {
   "cell_type": "markdown",
   "metadata": {},
   "source": [
    "## Elegir los atributos (features) para agrupar por ubicación"
   ]
  },
  {
   "cell_type": "code",
   "execution_count": null,
   "metadata": {},
   "outputs": [],
   "source": [
    "x = datos.filter([\"Latitude\", \"Longitude\"])\n",
    "x"
   ]
  },
  {
   "cell_type": "markdown",
   "metadata": {},
   "source": [
    "## Clustering"
   ]
  },
  {
   "cell_type": "markdown",
   "metadata": {},
   "source": [
    "Esta es la parte donde empieza el agrupamiento"
   ]
  },
  {
   "cell_type": "code",
   "execution_count": null,
   "metadata": {},
   "outputs": [],
   "source": [
    "# Crear un objeto (que llamaremos kmeans)\n",
    "# El número en los paréntesis es K, el número de grupos que deseamos\n",
    "\n",
    "kmeans = KMeans(2)"
   ]
  },
  {
   "cell_type": "code",
   "execution_count": null,
   "metadata": {},
   "outputs": [],
   "source": [
    "# Ajustar o afinar el modelo con los datos de entrada (y el número de clusters especificados)\n",
    "\n",
    "kmeans.fit(x)"
   ]
  },
  {
   "cell_type": "markdown",
   "metadata": {},
   "source": [
    "## Resultados del Clustering"
   ]
  },
  {
   "cell_type": "markdown",
   "metadata": {},
   "source": [
    "Hay muchas formas de realizar esta parte, esta es una de las más ilustrativas"
   ]
  },
  {
   "cell_type": "code",
   "execution_count": null,
   "metadata": {},
   "outputs": [],
   "source": [
    "# Crear una variable que contenga los clusters que se han predicho para cada observación\n",
    "\n",
    "clusters_identificados = kmeans.fit_predict(x)\n",
    "\n",
    "# Revisar los resultados\n",
    "\n",
    "clusters_identificados"
   ]
  },
  {
   "cell_type": "code",
   "execution_count": null,
   "metadata": {},
   "outputs": [],
   "source": [
    "# Crear una copia de los datos\n",
    "\n",
    "datos_con_clusters = datos.copy()\n",
    "\n",
    "# Crear una nueva serie, que tenga el cluster identificado para cada observación\n",
    "\n",
    "datos_con_clusters['Cluster'] = clusters_identificados\n",
    "\n",
    "# Revisar el resultado\n",
    "\n",
    "datos_con_clusters"
   ]
  },
  {
   "cell_type": "markdown",
   "metadata": {},
   "source": [
    "### Uso de Plotly Express para generar gráfica interactiva"
   ]
  },
  {
   "cell_type": "code",
   "execution_count": null,
   "metadata": {},
   "outputs": [],
   "source": [
    "#Graficar los datos utilizando la longitud y latitud\n",
    "# color es un argumento que se puede codificar con una variable\n",
    "# Todos los puntos en cada cluster tendran el mismo color\n",
    "\n",
    "datos_con_clusters[\"Cluster\"] = datos_con_clusters[\"Cluster\"].astype(\"category\")\n",
    "\n",
    "fig = px.scatter(datos_con_clusters, \n",
    "                 x = \"Longitude\", \n",
    "                 y = \"Latitude\", \n",
    "                 color = \"Cluster\",\n",
    "#                 size = '', \n",
    "                 hover_data = ['Country']\n",
    "                )\n",
    "fig.update_xaxes(range=[-180, 180])\n",
    "fig.update_yaxes(range=[-90, 90])\n",
    "\n",
    "fig.show()"
   ]
  },
  {
   "cell_type": "markdown",
   "metadata": {},
   "source": [
    "### Y, si queremos con tres grupos???\n",
    "\n",
    "Lo único que hay que hacer es cambiar el 2 por el 3 y repetir todos los pasos"
   ]
  },
  {
   "cell_type": "code",
   "execution_count": null,
   "metadata": {},
   "outputs": [],
   "source": []
  }
 ],
 "metadata": {
  "kernelspec": {
   "display_name": "Python 3 (ipykernel)",
   "language": "python",
   "name": "python3"
  },
  "language_info": {
   "codemirror_mode": {
    "name": "ipython",
    "version": 3
   },
   "file_extension": ".py",
   "mimetype": "text/x-python",
   "name": "python",
   "nbconvert_exporter": "python",
   "pygments_lexer": "ipython3",
   "version": "3.9.15"
  }
 },
 "nbformat": 4,
 "nbformat_minor": 4
}
